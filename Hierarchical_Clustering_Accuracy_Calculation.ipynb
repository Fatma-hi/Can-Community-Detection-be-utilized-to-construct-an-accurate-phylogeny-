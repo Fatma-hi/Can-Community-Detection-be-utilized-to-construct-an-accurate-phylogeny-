{
 "cells": [
  {
   "cell_type": "code",
   "execution_count": 26,
   "metadata": {},
   "outputs": [],
   "source": [
    "import pandas as pd\n",
    "import numpy as np\n",
    "import numpy as np\n",
    "from scipy.special import comb\n",
    "from itertools import combinations"
   ]
  },
  {
   "attachments": {},
   "cell_type": "markdown",
   "metadata": {},
   "source": [
    "# Reading the goundtruth labels and converting it to dataframe"
   ]
  },
  {
   "cell_type": "code",
   "execution_count": 2,
   "metadata": {},
   "outputs": [
    {
     "data": {
      "text/html": [
       "<div>\n",
       "<style scoped>\n",
       "    .dataframe tbody tr th:only-of-type {\n",
       "        vertical-align: middle;\n",
       "    }\n",
       "\n",
       "    .dataframe tbody tr th {\n",
       "        vertical-align: top;\n",
       "    }\n",
       "\n",
       "    .dataframe thead th {\n",
       "        text-align: right;\n",
       "    }\n",
       "</style>\n",
       "<table border=\"1\" class=\"dataframe\">\n",
       "  <thead>\n",
       "    <tr style=\"text-align: right;\">\n",
       "      <th></th>\n",
       "      <th>ID</th>\n",
       "      <th>lineage</th>\n",
       "    </tr>\n",
       "  </thead>\n",
       "  <tbody>\n",
       "    <tr>\n",
       "      <th>0</th>\n",
       "      <td>1</td>\n",
       "      <td>B.1.1.7</td>\n",
       "    </tr>\n",
       "    <tr>\n",
       "      <th>1</th>\n",
       "      <td>2</td>\n",
       "      <td>B.1.1.7</td>\n",
       "    </tr>\n",
       "    <tr>\n",
       "      <th>2</th>\n",
       "      <td>3</td>\n",
       "      <td>D.2</td>\n",
       "    </tr>\n",
       "    <tr>\n",
       "      <th>3</th>\n",
       "      <td>4</td>\n",
       "      <td>B.1.617.2</td>\n",
       "    </tr>\n",
       "    <tr>\n",
       "      <th>4</th>\n",
       "      <td>5</td>\n",
       "      <td>B.1.429</td>\n",
       "    </tr>\n",
       "  </tbody>\n",
       "</table>\n",
       "</div>"
      ],
      "text/plain": [
       "   ID    lineage\n",
       "0   1    B.1.1.7\n",
       "1   2    B.1.1.7\n",
       "2   3        D.2\n",
       "3   4  B.1.617.2\n",
       "4   5    B.1.429"
      ]
     },
     "execution_count": 2,
     "metadata": {},
     "output_type": "execute_result"
    }
   ],
   "source": [
    "Ground_Truth = pd.read_csv(r\"/Users/fatmanoor/Desktop/Fatma_GSU/Spring_2023/Masters_Project/Fatma_MS_Project/Accuracy_louvain/7k_id_with_lineage.csv\")\n",
    "Ground_Truth.head()"
   ]
  },
  {
   "attachments": {},
   "cell_type": "markdown",
   "metadata": {},
   "source": [
    "# Converting the data frame into dictionary to group all the same Lineage ID together"
   ]
  },
  {
   "cell_type": "code",
   "execution_count": 3,
   "metadata": {},
   "outputs": [],
   "source": [
    "# Converting Ground truth dataset in to dictionary to get all the ID with same Lineage labels in a single list\n",
    "Labels_true_dict = Ground_Truth.groupby('lineage')['ID'].apply(list)"
   ]
  },
  {
   "cell_type": "code",
   "execution_count": 4,
   "metadata": {},
   "outputs": [
    {
     "data": {
      "text/plain": [
       "lineage\n",
       "AY.12         [16, 121, 164, 188, 195, 199, 290, 371, 502, 6...\n",
       "AY.4          [10, 17, 51, 56, 87, 90, 92, 94, 114, 129, 132...\n",
       "B.1           [30, 54, 72, 80, 85, 104, 110, 122, 166, 192, ...\n",
       "B.1.1         [19, 39, 165, 185, 214, 219, 232, 378, 383, 39...\n",
       "B.1.1.214     [124, 272, 282, 363, 559, 667, 742, 1085, 1175...\n",
       "B.1.1.519     [73, 101, 123, 153, 201, 376, 429, 640, 641, 7...\n",
       "B.1.1.7       [1, 2, 6, 7, 8, 9, 13, 14, 15, 22, 24, 27, 28,...\n",
       "B.1.160       [70, 237, 259, 357, 436, 437, 698, 734, 775, 8...\n",
       "B.1.177       [36, 76, 100, 103, 147, 148, 169, 177, 196, 21...\n",
       "B.1.177.21    [42, 136, 450, 744, 802, 1205, 1235, 1243, 145...\n",
       "B.1.2         [11, 12, 20, 29, 44, 93, 138, 159, 167, 178, 1...\n",
       "B.1.221       [77, 99, 356, 421, 723, 1071, 1155, 1159, 1318...\n",
       "B.1.243       [21, 133, 218, 507, 787, 812, 820, 873, 1145, ...\n",
       "B.1.258       [60, 184, 553, 1019, 1152, 1267, 1278, 1287, 1...\n",
       "B.1.351       [40, 113, 411, 709, 845, 864, 1038, 1125, 1130...\n",
       "B.1.427       [18, 23, 26, 181, 526, 814, 882, 896, 1088, 13...\n",
       "B.1.429       [5, 25, 98, 154, 353, 355, 438, 537, 555, 579,...\n",
       "B.1.526       [74, 320, 504, 508, 521, 619, 724, 782, 807, 9...\n",
       "B.1.617.2     [4, 79, 82, 89, 108, 116, 117, 119, 125, 139, ...\n",
       "D.2           [3, 97, 465, 799, 900, 939, 1060, 1096, 1295, ...\n",
       "P.1           [43, 46, 81, 118, 204, 241, 253, 261, 266, 288...\n",
       "R.1           [95, 362, 1281, 1596, 2094, 2105, 2582, 2951, ...\n",
       "Name: ID, dtype: object"
      ]
     },
     "execution_count": 4,
     "metadata": {},
     "output_type": "execute_result"
    }
   ],
   "source": [
    "Labels_true_dict"
   ]
  },
  {
   "cell_type": "code",
   "execution_count": 5,
   "metadata": {},
   "outputs": [
    {
     "data": {
      "text/plain": [
       "22"
      ]
     },
     "execution_count": 5,
     "metadata": {},
     "output_type": "execute_result"
    }
   ],
   "source": [
    "len(Labels_true_dict)"
   ]
  },
  {
   "attachments": {},
   "cell_type": "markdown",
   "metadata": {},
   "source": [
    "# Reading the Clustering results labels and converting it to dataframe"
   ]
  },
  {
   "cell_type": "code",
   "execution_count": 6,
   "metadata": {},
   "outputs": [
    {
     "data": {
      "text/html": [
       "<div>\n",
       "<style scoped>\n",
       "    .dataframe tbody tr th:only-of-type {\n",
       "        vertical-align: middle;\n",
       "    }\n",
       "\n",
       "    .dataframe tbody tr th {\n",
       "        vertical-align: top;\n",
       "    }\n",
       "\n",
       "    .dataframe thead th {\n",
       "        text-align: right;\n",
       "    }\n",
       "</style>\n",
       "<table border=\"1\" class=\"dataframe\">\n",
       "  <thead>\n",
       "    <tr style=\"text-align: right;\">\n",
       "      <th></th>\n",
       "      <th>ID</th>\n",
       "      <th>Community Number</th>\n",
       "    </tr>\n",
       "  </thead>\n",
       "  <tbody>\n",
       "    <tr>\n",
       "      <th>0</th>\n",
       "      <td>1</td>\n",
       "      <td>45</td>\n",
       "    </tr>\n",
       "    <tr>\n",
       "      <th>1</th>\n",
       "      <td>2</td>\n",
       "      <td>655</td>\n",
       "    </tr>\n",
       "    <tr>\n",
       "      <th>2</th>\n",
       "      <td>3</td>\n",
       "      <td>45</td>\n",
       "    </tr>\n",
       "    <tr>\n",
       "      <th>3</th>\n",
       "      <td>4</td>\n",
       "      <td>0</td>\n",
       "    </tr>\n",
       "    <tr>\n",
       "      <th>4</th>\n",
       "      <td>5</td>\n",
       "      <td>122</td>\n",
       "    </tr>\n",
       "  </tbody>\n",
       "</table>\n",
       "</div>"
      ],
      "text/plain": [
       "   ID  Community Number\n",
       "0   1                45\n",
       "1   2               655\n",
       "2   3                45\n",
       "3   4                 0\n",
       "4   5               122"
      ]
     },
     "execution_count": 6,
     "metadata": {},
     "output_type": "execute_result"
    }
   ],
   "source": [
    "Hierarchical_Clustering_Results = pd.read_csv(r\"/Users/fatmanoor/Desktop/Fatma_GSU/Spring_2023/Masters_Project/Fatma_MS_Project/Accuracy_louvain/Hierarchical_Clustering_Communities_Output.csv\")\n",
    "Hierarchical_Clustering_Results.head()"
   ]
  },
  {
   "cell_type": "code",
   "execution_count": 7,
   "metadata": {},
   "outputs": [],
   "source": [
    "#Converting Clusterning result dataset in to dictonary to get all the ID with same Community labels in a single list\n",
    "Labels_Clustering_dict = Hierarchical_Clustering_Results.groupby('Community Number')['ID'].apply(list)"
   ]
  },
  {
   "cell_type": "code",
   "execution_count": 8,
   "metadata": {},
   "outputs": [
    {
     "data": {
      "text/plain": [
       "Community Number\n",
       "0                        [4]\n",
       "1                       [15]\n",
       "2                       [17]\n",
       "3      [25, 723, 4735, 6347]\n",
       "4                       [30]\n",
       "               ...          \n",
       "687                   [6909]\n",
       "688                   [6925]\n",
       "689                   [6931]\n",
       "690                   [6954]\n",
       "691                   [6969]\n",
       "Name: ID, Length: 692, dtype: object"
      ]
     },
     "execution_count": 8,
     "metadata": {},
     "output_type": "execute_result"
    }
   ],
   "source": [
    "Labels_Clustering_dict"
   ]
  },
  {
   "cell_type": "code",
   "execution_count": 9,
   "metadata": {},
   "outputs": [
    {
     "data": {
      "text/plain": [
       "692"
      ]
     },
     "execution_count": 9,
     "metadata": {},
     "output_type": "execute_result"
    }
   ],
   "source": [
    "len(Labels_Clustering_dict)"
   ]
  },
  {
   "attachments": {},
   "cell_type": "markdown",
   "metadata": {},
   "source": [
    "# Iteraing over Dictionary to get a list of list with Predict_labels and Ground_labels "
   ]
  },
  {
   "cell_type": "code",
   "execution_count": 10,
   "metadata": {},
   "outputs": [],
   "source": [
    "Predic_labels = []\n",
    "keys = []\n",
    "items = Labels_Clustering_dict.items()\n",
    "for item in items:\n",
    "    keys.append(item[0]),Predic_labels.append(item[1])\n",
    "#print(\"keys : \", keys)\n",
    "#print(\"Clusters : \", Predic_labels)\n"
   ]
  },
  {
   "cell_type": "code",
   "execution_count": 11,
   "metadata": {},
   "outputs": [],
   "source": [
    "Ground_labels = []\n",
    "keys_lin = []\n",
    "items = Labels_true_dict.items()\n",
    "for item in items:\n",
    "    keys_lin.append(item[0]),Ground_labels.append(item[1])\n",
    "#print(\"keys : \", keys_lin)\n",
    "#print(\"Clusters : \", Ground_labels)"
   ]
  },
  {
   "attachments": {},
   "cell_type": "markdown",
   "metadata": {},
   "source": [
    "# Sorting 7k elements according to their labels (Ground_labels, Predict_labels)"
   ]
  },
  {
   "cell_type": "code",
   "execution_count": 12,
   "metadata": {},
   "outputs": [],
   "source": [
    "def sorting_data_size(c) :\n",
    "    l = []\n",
    "    j = 0\n",
    "    for x in c :\n",
    "        for y in x :\n",
    "            l.append(j)\n",
    "        j += 1\n",
    "    return l"
   ]
  },
  {
   "cell_type": "code",
   "execution_count": 13,
   "metadata": {},
   "outputs": [],
   "source": [
    "X_Predict_labels = sorting_data_size(Predic_labels)"
   ]
  },
  {
   "cell_type": "code",
   "execution_count": 14,
   "metadata": {},
   "outputs": [],
   "source": [
    "Y_Ground_labels = sorting_data_size(Ground_labels)"
   ]
  },
  {
   "cell_type": "code",
   "execution_count": 15,
   "metadata": {},
   "outputs": [
    {
     "data": {
      "text/plain": [
       "24496500.0"
      ]
     },
     "execution_count": 15,
     "metadata": {},
     "output_type": "execute_result"
    }
   ],
   "source": [
    "comb(7000, 2, exact=False)"
   ]
  },
  {
   "cell_type": "code",
   "execution_count": 16,
   "metadata": {},
   "outputs": [],
   "source": [
    "pair_comb = comb(7000, 2, exact=True)"
   ]
  },
  {
   "cell_type": "code",
   "execution_count": 17,
   "metadata": {},
   "outputs": [],
   "source": [
    "#Sample data_set for clear explamnation\n",
    "\n",
    "data_set= [0,1,2,3,4,5,6,7,8,9]\n",
    "\n",
    "Label_true = [1,1,2,2,2,3,3,3,4,4]\n",
    "Label_pred = [1,1,2,3,4,4,5,6,7,8]"
   ]
  },
  {
   "cell_type": "code",
   "execution_count": 18,
   "metadata": {},
   "outputs": [
    {
     "name": "stdout",
     "output_type": "stream",
     "text": [
      "(1, 0)\n",
      "(2, 0)\n",
      "(2, 1)\n",
      "(3, 0)\n",
      "(3, 1)\n",
      "(3, 2)\n",
      "(4, 0)\n",
      "(4, 1)\n",
      "(4, 2)\n",
      "(4, 3)\n",
      "(5, 0)\n",
      "(5, 1)\n",
      "(5, 2)\n",
      "(5, 3)\n",
      "(5, 4)\n",
      "(6, 0)\n",
      "(6, 1)\n",
      "(6, 2)\n",
      "(6, 3)\n",
      "(6, 4)\n",
      "(6, 5)\n",
      "(7, 0)\n",
      "(7, 1)\n",
      "(7, 2)\n",
      "(7, 3)\n",
      "(7, 4)\n",
      "(7, 5)\n",
      "(7, 6)\n",
      "(8, 0)\n",
      "(8, 1)\n",
      "(8, 2)\n",
      "(8, 3)\n",
      "(8, 4)\n",
      "(8, 5)\n",
      "(8, 6)\n",
      "(8, 7)\n",
      "(9, 0)\n",
      "(9, 1)\n",
      "(9, 2)\n",
      "(9, 3)\n",
      "(9, 4)\n",
      "(9, 5)\n",
      "(9, 6)\n",
      "(9, 7)\n",
      "(9, 8)\n",
      "45\n"
     ]
    }
   ],
   "source": [
    "data_set= [0,1,2,3,4,5,6,7,8,9]\n",
    "counter = 0\n",
    "for i in range(len(data_set)):\n",
    "    for j in range(i):\n",
    "        x=(i,j)\n",
    "        print(x)\n",
    "        counter += 1\n",
    "        \n",
    "print(counter)      \n",
    "  "
   ]
  },
  {
   "cell_type": "code",
   "execution_count": 19,
   "metadata": {},
   "outputs": [
    {
     "name": "stdout",
     "output_type": "stream",
     "text": [
      "[(0, 1), (0, 2), (0, 3), (0, 4), (0, 5), (0, 6), (0, 7), (0, 8), (0, 9), (1, 2), (1, 3), (1, 4), (1, 5), (1, 6), (1, 7), (1, 8), (1, 9), (2, 3), (2, 4), (2, 5), (2, 6), (2, 7), (2, 8), (2, 9), (3, 4), (3, 5), (3, 6), (3, 7), (3, 8), (3, 9), (4, 5), (4, 6), (4, 7), (4, 8), (4, 9), (5, 6), (5, 7), (5, 8), (5, 9), (6, 7), (6, 8), (6, 9), (7, 8), (7, 9), (8, 9)]\n",
      "45\n"
     ]
    }
   ],
   "source": [
    "my_pair = list(combinations(range(len(data_set)), 2))\n",
    "print(my_pair)\n",
    "print(len(my_pair))"
   ]
  },
  {
   "cell_type": "code",
   "execution_count": 20,
   "metadata": {},
   "outputs": [],
   "source": [
    "def rand_index(labels_true, labels_pred):\n",
    "    possible_comb = list(combinations(range(len(labels_true)), 2))  #create list of all combinations with the length of labels.\n",
    "    print(len(possible_comb))\n",
    "\n",
    "    def check_pair (x):     # checking each pair if they are together in any cluster then return True or if not then return False\n",
    "        return (x[0]==x[1])\n",
    "    \n",
    "    counter_tp = 0       #taking 4 counters for 4 different condition\n",
    "    counter_tn = 0\n",
    "    counter_fp = 0\n",
    "    counter_fn = 0\n",
    "    for i in range (len(possible_comb)):\n",
    "        if (check_pair((labels_true[possible_comb[i][0]],labels_true[possible_comb[i][1]])) == check_pair((labels_pred[possible_comb[i][0]],labels_pred[possible_comb[i][1]]))\n",
    "            and check_pair((labels_pred[possible_comb[i][0]],labels_pred[possible_comb[i][1]]))== True):\n",
    "            counter_tp +=1    \n",
    "        if (check_pair((labels_true[possible_comb[i][0]],labels_true[possible_comb[i][1]])) == check_pair((labels_pred[possible_comb[i][0]],labels_pred[possible_comb[i][1]]))\n",
    "            and check_pair((labels_pred[possible_comb[i][0]],labels_pred[possible_comb[i][1]]))== False):\n",
    "            counter_tn +=1\n",
    "        if (check_pair((labels_true[possible_comb[i][0]],labels_true[possible_comb[i][1]])) != check_pair((labels_pred[possible_comb[i][0]],labels_pred[possible_comb[i][1]]))\n",
    "            and check_pair((labels_pred[possible_comb[i][0]],labels_pred[possible_comb[i][1]]))== True):\n",
    "            counter_fp +=1\n",
    "        if (check_pair((labels_true[possible_comb[i][0]],labels_true[possible_comb[i][1]])) != check_pair((labels_pred[possible_comb[i][0]],labels_pred[possible_comb[i][1]]))\n",
    "            and check_pair((labels_pred[possible_comb[i][0]],labels_pred[possible_comb[i][1]]))== False):\n",
    "            counter_fn +=1   \n",
    "\n",
    "\n",
    "    Precision  = counter_tp / (counter_tp + counter_fp)\n",
    "    Recall  = counter_tp / (counter_tp + counter_fn)\n",
    "    F1_Score  = (Precision * Recall) / (Precision + Recall)\n",
    "\n",
    "    #rand_index_result = (counter_tp + counter_tn) / Total_pair \n",
    "    Rand_Index = (counter_tp + counter_tn)/ (counter_tp+ counter_fp + counter_fn +counter_tn)\n",
    "    print(\"Precision : \",Precision)\n",
    "    print(\"Recall : \", Recall )\n",
    "    print(\"F1_Score : \", F1_Score )\n",
    "    print(\"Rand_Index : \", Rand_Index )\n",
    "    \n",
    "         \n",
    "\n",
    "    \n",
    "\n",
    "\n",
    "  \n",
    "    "
   ]
  },
  {
   "cell_type": "code",
   "execution_count": 21,
   "metadata": {},
   "outputs": [
    {
     "name": "stdout",
     "output_type": "stream",
     "text": [
      "45\n",
      "Precision :  0.5\n",
      "Recall :  0.125\n",
      "F1_Score :  0.1\n",
      "Rand_Index :  0.8222222222222222\n"
     ]
    }
   ],
   "source": [
    "rand_index(Label_true, Label_pred)"
   ]
  },
  {
   "cell_type": "code",
   "execution_count": 22,
   "metadata": {},
   "outputs": [
    {
     "name": "stdout",
     "output_type": "stream",
     "text": [
      "24496500\n",
      "Precision :  0.22623553788590667\n",
      "Recall :  0.2622094100258964\n",
      "F1_Score :  0.12144886986663302\n",
      "Rand_Index :  0.6300608250158186\n"
     ]
    }
   ],
   "source": [
    "rand_index(X_Predict_labels, Y_Ground_labels)"
   ]
  }
 ],
 "metadata": {
  "kernelspec": {
   "display_name": "base",
   "language": "python",
   "name": "python3"
  },
  "language_info": {
   "codemirror_mode": {
    "name": "ipython",
    "version": 3
   },
   "file_extension": ".py",
   "mimetype": "text/x-python",
   "name": "python",
   "nbconvert_exporter": "python",
   "pygments_lexer": "ipython3",
   "version": "3.9.13"
  },
  "orig_nbformat": 4,
  "vscode": {
   "interpreter": {
    "hash": "f39c9659fc244df11b8539382177796fa6cb40577b68417626ce9e7d0df89ccb"
   }
  }
 },
 "nbformat": 4,
 "nbformat_minor": 2
}
