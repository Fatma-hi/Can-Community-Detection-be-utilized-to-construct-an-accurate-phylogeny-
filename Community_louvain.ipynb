{
 "cells": [
  {
   "cell_type": "code",
   "execution_count": 2,
   "metadata": {},
   "outputs": [],
   "source": [
    "import networkx as nx\n",
    "from networkx import common_neighbors\n",
    "from collections import OrderedDict\n",
    "import matplotlib.pyplot as plt\n",
    "from community import community_louvain\n",
    "import matplotlib.cm as cm\n",
    "import networkx.algorithms.community as nx_comm"
   ]
  },
  {
   "cell_type": "code",
   "execution_count": 3,
   "metadata": {},
   "outputs": [],
   "source": [
    "G = nx.read_edgelist(\"Edges.txt\")"
   ]
  },
  {
   "cell_type": "code",
   "execution_count": 4,
   "metadata": {},
   "outputs": [],
   "source": [
    "part = community_louvain.best_partition(G)"
   ]
  },
  {
   "cell_type": "code",
   "execution_count": 5,
   "metadata": {},
   "outputs": [],
   "source": [
    "communities = nx_comm.louvain_communities(G, seed=100)"
   ]
  },
  {
   "cell_type": "code",
   "execution_count": 7,
   "metadata": {},
   "outputs": [
    {
     "name": "stdout",
     "output_type": "stream",
     "text": [
      "95\n"
     ]
    }
   ],
   "source": [
    "print(len(communities))"
   ]
  },
  {
   "cell_type": "code",
   "execution_count": 8,
   "metadata": {},
   "outputs": [],
   "source": [
    "import pandas as pd\n",
    "import numpy as np\n",
    "import numpy as np\n",
    "from scipy.special import comb\n",
    "from sklearn.preprocessing import MultiLabelBinarizer"
   ]
  },
  {
   "cell_type": "code",
   "execution_count": 9,
   "metadata": {},
   "outputs": [
    {
     "data": {
      "text/html": [
       "<div>\n",
       "<style scoped>\n",
       "    .dataframe tbody tr th:only-of-type {\n",
       "        vertical-align: middle;\n",
       "    }\n",
       "\n",
       "    .dataframe tbody tr th {\n",
       "        vertical-align: top;\n",
       "    }\n",
       "\n",
       "    .dataframe thead th {\n",
       "        text-align: right;\n",
       "    }\n",
       "</style>\n",
       "<table border=\"1\" class=\"dataframe\">\n",
       "  <thead>\n",
       "    <tr style=\"text-align: right;\">\n",
       "      <th></th>\n",
       "      <th>ID</th>\n",
       "      <th>lineage</th>\n",
       "    </tr>\n",
       "  </thead>\n",
       "  <tbody>\n",
       "    <tr>\n",
       "      <th>0</th>\n",
       "      <td>1</td>\n",
       "      <td>B.1.1.7</td>\n",
       "    </tr>\n",
       "    <tr>\n",
       "      <th>1</th>\n",
       "      <td>2</td>\n",
       "      <td>B.1.1.7</td>\n",
       "    </tr>\n",
       "    <tr>\n",
       "      <th>2</th>\n",
       "      <td>3</td>\n",
       "      <td>D.2</td>\n",
       "    </tr>\n",
       "    <tr>\n",
       "      <th>3</th>\n",
       "      <td>4</td>\n",
       "      <td>B.1.617.2</td>\n",
       "    </tr>\n",
       "    <tr>\n",
       "      <th>4</th>\n",
       "      <td>5</td>\n",
       "      <td>B.1.429</td>\n",
       "    </tr>\n",
       "  </tbody>\n",
       "</table>\n",
       "</div>"
      ],
      "text/plain": [
       "   ID    lineage\n",
       "0   1    B.1.1.7\n",
       "1   2    B.1.1.7\n",
       "2   3        D.2\n",
       "3   4  B.1.617.2\n",
       "4   5    B.1.429"
      ]
     },
     "execution_count": 9,
     "metadata": {},
     "output_type": "execute_result"
    }
   ],
   "source": [
    "Ground_Truth = pd.read_csv(r\"/Users/fatmanoor/Desktop/Fatma_GSU/Spring_2023/Masters_Project/Fatma_MS_Project/Accuracy_louvain/7k_id_with_lineage.csv\")\n",
    "Ground_Truth.head()"
   ]
  },
  {
   "cell_type": "code",
   "execution_count": 10,
   "metadata": {},
   "outputs": [],
   "source": [
    "New_dict = Ground_Truth.groupby('lineage')['ID'].apply(list)"
   ]
  },
  {
   "cell_type": "code",
   "execution_count": 11,
   "metadata": {},
   "outputs": [],
   "source": [
    "Classes = []\n",
    "keys_lin = []\n",
    "items = New_dict.items()\n",
    "for item in items:\n",
    "    keys_lin.append(item[0]),Classes.append(item[1])\n",
    "# printing keys and values separately\n",
    "#print(\"keys : \", keys_lin)\n",
    "#print(\"Clusters : \", Classes)"
   ]
  },
  {
   "cell_type": "code",
   "execution_count": 20,
   "metadata": {},
   "outputs": [],
   "source": [
    "def c2l(c) :\n",
    "    l = []\n",
    "    j = 0\n",
    "    for x in c :\n",
    "        for y in x :\n",
    "            l.append(j)\n",
    "        j += 1\n",
    "    return l\n"
   ]
  },
  {
   "cell_type": "code",
   "execution_count": 21,
   "metadata": {},
   "outputs": [],
   "source": [
    "Ground_truth = c2l(Classes) "
   ]
  },
  {
   "cell_type": "code",
   "execution_count": 25,
   "metadata": {},
   "outputs": [],
   "source": [
    "Pred_Clusters = c2l(communities)"
   ]
  },
  {
   "cell_type": "code",
   "execution_count": 28,
   "metadata": {},
   "outputs": [
    {
     "ename": "AttributeError",
     "evalue": "'list' object has no attribute 'dtype'",
     "output_type": "error",
     "traceback": [
      "\u001b[0;31m---------------------------------------------------------------------------\u001b[0m",
      "\u001b[0;31mAttributeError\u001b[0m                            Traceback (most recent call last)",
      "Cell \u001b[0;32mIn[28], line 2\u001b[0m\n\u001b[1;32m      1\u001b[0m \u001b[39m#print(communities)\u001b[39;00m\n\u001b[0;32m----> 2\u001b[0m communities\u001b[39m.\u001b[39;49mdtype\n",
      "\u001b[0;31mAttributeError\u001b[0m: 'list' object has no attribute 'dtype'"
     ]
    }
   ],
   "source": [
    "#print(communities)"
   ]
  },
  {
   "cell_type": "code",
   "execution_count": 23,
   "metadata": {},
   "outputs": [],
   "source": [
    "from sklearn.metrics.cluster import adjusted_rand_score\n",
    "from sklearn.preprocessing import MultiLabelBinarizer\n",
    "from sklearn.metrics import adjusted_rand_score"
   ]
  },
  {
   "cell_type": "code",
   "execution_count": 24,
   "metadata": {},
   "outputs": [
    {
     "ename": "ValueError",
     "evalue": "Found input variables with inconsistent numbers of samples: [7000, 6403]",
     "output_type": "error",
     "traceback": [
      "\u001b[0;31m---------------------------------------------------------------------------\u001b[0m",
      "\u001b[0;31mValueError\u001b[0m                                Traceback (most recent call last)",
      "Cell \u001b[0;32mIn[24], line 1\u001b[0m\n\u001b[0;32m----> 1\u001b[0m ari \u001b[39m=\u001b[39m adjusted_rand_score(Ground_truth, Pred_Clusters)\n\u001b[1;32m      2\u001b[0m \u001b[39mprint\u001b[39m(\u001b[39m\"\u001b[39m\u001b[39mAdjusted Rand Index:\u001b[39m\u001b[39m\"\u001b[39m, ari)\n",
      "File \u001b[0;32m~/miniconda3/lib/python3.9/site-packages/sklearn/metrics/cluster/_supervised.py:401\u001b[0m, in \u001b[0;36madjusted_rand_score\u001b[0;34m(labels_true, labels_pred)\u001b[0m\n\u001b[1;32m    310\u001b[0m \u001b[39mdef\u001b[39;00m \u001b[39madjusted_rand_score\u001b[39m(labels_true, labels_pred):\n\u001b[1;32m    311\u001b[0m     \u001b[39m\"\"\"Rand index adjusted for chance.\u001b[39;00m\n\u001b[1;32m    312\u001b[0m \n\u001b[1;32m    313\u001b[0m \u001b[39m    The Rand Index computes a similarity measure between two clusterings\u001b[39;00m\n\u001b[0;32m   (...)\u001b[0m\n\u001b[1;32m    399\u001b[0m \u001b[39m      -0.5\u001b[39;00m\n\u001b[1;32m    400\u001b[0m \u001b[39m    \"\"\"\u001b[39;00m\n\u001b[0;32m--> 401\u001b[0m     (tn, fp), (fn, tp) \u001b[39m=\u001b[39m pair_confusion_matrix(labels_true, labels_pred)\n\u001b[1;32m    402\u001b[0m     \u001b[39m# convert to Python integer types, to avoid overflow or underflow\u001b[39;00m\n\u001b[1;32m    403\u001b[0m     tn, fp, fn, tp \u001b[39m=\u001b[39m \u001b[39mint\u001b[39m(tn), \u001b[39mint\u001b[39m(fp), \u001b[39mint\u001b[39m(fn), \u001b[39mint\u001b[39m(tp)\n",
      "File \u001b[0;32m~/miniconda3/lib/python3.9/site-packages/sklearn/metrics/cluster/_supervised.py:221\u001b[0m, in \u001b[0;36mpair_confusion_matrix\u001b[0;34m(labels_true, labels_pred)\u001b[0m\n\u001b[1;32m    161\u001b[0m \u001b[39mdef\u001b[39;00m \u001b[39mpair_confusion_matrix\u001b[39m(labels_true, labels_pred):\n\u001b[1;32m    162\u001b[0m     \u001b[39m\"\"\"Pair confusion matrix arising from two clusterings [1]_.\u001b[39;00m\n\u001b[1;32m    163\u001b[0m \n\u001b[1;32m    164\u001b[0m \u001b[39m    The pair confusion matrix :math:`C` computes a 2 by 2 similarity matrix\u001b[39;00m\n\u001b[0;32m   (...)\u001b[0m\n\u001b[1;32m    219\u001b[0m \u001b[39m    Note that the matrix is not symmetric.\u001b[39;00m\n\u001b[1;32m    220\u001b[0m \u001b[39m    \"\"\"\u001b[39;00m\n\u001b[0;32m--> 221\u001b[0m     labels_true, labels_pred \u001b[39m=\u001b[39m check_clusterings(labels_true, labels_pred)\n\u001b[1;32m    222\u001b[0m     n_samples \u001b[39m=\u001b[39m np\u001b[39m.\u001b[39mint64(labels_true\u001b[39m.\u001b[39mshape[\u001b[39m0\u001b[39m])\n\u001b[1;32m    224\u001b[0m     \u001b[39m# Computation using the contingency data\u001b[39;00m\n",
      "File \u001b[0;32m~/miniconda3/lib/python3.9/site-packages/sklearn/metrics/cluster/_supervised.py:71\u001b[0m, in \u001b[0;36mcheck_clusterings\u001b[0;34m(labels_true, labels_pred)\u001b[0m\n\u001b[1;32m     69\u001b[0m \u001b[39mif\u001b[39;00m labels_pred\u001b[39m.\u001b[39mndim \u001b[39m!=\u001b[39m \u001b[39m1\u001b[39m:\n\u001b[1;32m     70\u001b[0m     \u001b[39mraise\u001b[39;00m \u001b[39mValueError\u001b[39;00m(\u001b[39m\"\u001b[39m\u001b[39mlabels_pred must be 1D: shape is \u001b[39m\u001b[39m%r\u001b[39;00m\u001b[39m\"\u001b[39m \u001b[39m%\u001b[39m (labels_pred\u001b[39m.\u001b[39mshape,))\n\u001b[0;32m---> 71\u001b[0m check_consistent_length(labels_true, labels_pred)\n\u001b[1;32m     73\u001b[0m \u001b[39mreturn\u001b[39;00m labels_true, labels_pred\n",
      "File \u001b[0;32m~/miniconda3/lib/python3.9/site-packages/sklearn/utils/validation.py:397\u001b[0m, in \u001b[0;36mcheck_consistent_length\u001b[0;34m(*arrays)\u001b[0m\n\u001b[1;32m    395\u001b[0m uniques \u001b[39m=\u001b[39m np\u001b[39m.\u001b[39munique(lengths)\n\u001b[1;32m    396\u001b[0m \u001b[39mif\u001b[39;00m \u001b[39mlen\u001b[39m(uniques) \u001b[39m>\u001b[39m \u001b[39m1\u001b[39m:\n\u001b[0;32m--> 397\u001b[0m     \u001b[39mraise\u001b[39;00m \u001b[39mValueError\u001b[39;00m(\n\u001b[1;32m    398\u001b[0m         \u001b[39m\"\u001b[39m\u001b[39mFound input variables with inconsistent numbers of samples: \u001b[39m\u001b[39m%r\u001b[39;00m\u001b[39m\"\u001b[39m\n\u001b[1;32m    399\u001b[0m         \u001b[39m%\u001b[39m [\u001b[39mint\u001b[39m(l) \u001b[39mfor\u001b[39;00m l \u001b[39min\u001b[39;00m lengths]\n\u001b[1;32m    400\u001b[0m     )\n",
      "\u001b[0;31mValueError\u001b[0m: Found input variables with inconsistent numbers of samples: [7000, 6403]"
     ]
    }
   ],
   "source": [
    "ari = adjusted_rand_score(Ground_truth, Pred_Clusters)\n",
    "print(\"Adjusted Rand Index:\", ari)"
   ]
  },
  {
   "cell_type": "code",
   "execution_count": 8,
   "metadata": {},
   "outputs": [],
   "source": [
    "#print(communities)"
   ]
  },
  {
   "cell_type": "code",
   "execution_count": 16,
   "metadata": {},
   "outputs": [],
   "source": [
    "#print(Clusters_flat)"
   ]
  },
  {
   "cell_type": "code",
   "execution_count": 7,
   "metadata": {},
   "outputs": [],
   "source": [
    "#print(communities)"
   ]
  },
  {
   "cell_type": "code",
   "execution_count": 6,
   "metadata": {},
   "outputs": [
    {
     "name": "stdout",
     "output_type": "stream",
     "text": [
      "6403\n"
     ]
    }
   ],
   "source": [
    "print(len(part))"
   ]
  },
  {
   "cell_type": "code",
   "execution_count": 7,
   "metadata": {},
   "outputs": [
    {
     "name": "stdout",
     "output_type": "stream",
     "text": [
      "6403\n"
     ]
    }
   ],
   "source": [
    "print(len(part.values()))"
   ]
  },
  {
   "cell_type": "code",
   "execution_count": 8,
   "metadata": {},
   "outputs": [],
   "source": [
    "#print(part)"
   ]
  },
  {
   "cell_type": "code",
   "execution_count": 9,
   "metadata": {},
   "outputs": [
    {
     "data": {
      "image/png": "[encoded data removed]",
      "text/plain": [
       "<Figure size 640x480 with 1 Axes>"
      ]
     },
     "metadata": {},
     "output_type": "display_data"
    }
   ],
   "source": [
    "pos = nx.spring_layout(G)\n",
    "# color the nodes according to their partition\n",
    "cmap = cm.get_cmap('viridis', max(part.values()) + 1)\n",
    "nx.draw_networkx_nodes(G, pos, part.keys(), node_size=100,\n",
    "                       cmap=cmap, node_color=list(part.values()))\n",
    "nx.draw_networkx_edges(G, pos, alpha=0.5)\n",
    "plt.show()"
   ]
  },
  {
   "cell_type": "code",
   "execution_count": null,
   "metadata": {},
   "outputs": [],
   "source": []
  }
 ],
 "metadata": {
  "kernelspec": {
   "display_name": "base",
   "language": "python",
   "name": "python3"
  },
  "language_info": {
   "codemirror_mode": {
    "name": "ipython",
    "version": 3
   },
   "file_extension": ".py",
   "mimetype": "text/x-python",
   "name": "python",
   "nbconvert_exporter": "python",
   "pygments_lexer": "ipython3",
   "version": "3.9.13"
  },
  "orig_nbformat": 4,
  "vscode": {
   "interpreter": {
    "hash": "f39c9659fc244df11b8539382177796fa6cb40577b68417626ce9e7d0df89ccb"
   }
  }
 },
 "nbformat": 4,
 "nbformat_minor": 2
}
